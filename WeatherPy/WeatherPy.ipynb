{
 "cells": [
  {
   "cell_type": "markdown",
   "metadata": {},
   "source": [
    "# WeatherPy\n",
    "----\n",
    "\n",
    "#### Note\n",
    "* Instructions have been included for each segment. You do not have to follow them exactly, but they are included to help you think through the steps."
   ]
  },
  {
   "cell_type": "code",
   "execution_count": 5,
   "metadata": {
    "scrolled": true
   },
   "outputs": [],
   "source": [
    "# Dependencies and Setup\n",
    "import matplotlib.pyplot as plt\n",
    "import pandas as pd\n",
    "import numpy as np\n",
    "import requests\n",
    "import time\n",
    "from scipy.stats import linregress\n",
    "from pprint import pprint\n",
    "\n",
    "# Import API key\n",
    "from api_keys import weather_api_key\n",
    "\n",
    "# Incorporated citipy to determine city based on latitude and longitude\n",
    "from citipy import citipy\n",
    "\n",
    "# Output File (CSV)\n",
    "output_data_file = \"output_data/cities.csv\"\n",
    "\n",
    "# Range of latitudes and longitudes\n",
    "lat_range = (-90, 90)\n",
    "lng_range = (-180, 180)"
   ]
  },
  {
   "cell_type": "markdown",
   "metadata": {},
   "source": [
    "## Generate Cities List"
   ]
  },
  {
   "cell_type": "code",
   "execution_count": 6,
   "metadata": {},
   "outputs": [
    {
     "data": {
      "text/plain": [
       "605"
      ]
     },
     "execution_count": 6,
     "metadata": {},
     "output_type": "execute_result"
    }
   ],
   "source": [
    "# List for holding lat_lngs and cities\n",
    "lat_lngs = []\n",
    "cities = []\n",
    "\n",
    "# Create a set of random lat and lng combinations\n",
    "lats = np.random.uniform(lat_range[0], lat_range[1], size=1500)\n",
    "lngs = np.random.uniform(lng_range[0], lng_range[1], size=1500)\n",
    "lat_lngs = zip(lats, lngs)\n",
    "\n",
    "# Identify nearest city for each lat, lng combination\n",
    "for lat_lng in lat_lngs:\n",
    "    city = citipy.nearest_city(lat_lng[0], lat_lng[1]).city_name\n",
    "    \n",
    "    # If the city is unique, then add it to a our cities list\n",
    "    if city not in cities:\n",
    "        cities.append(city)\n",
    "\n",
    "# Print the city count to confirm sufficient count\n",
    "len(cities)"
   ]
  },
  {
   "cell_type": "code",
   "execution_count": 7,
   "metadata": {},
   "outputs": [],
   "source": [
    "#print(cities)"
   ]
  },
  {
   "cell_type": "markdown",
   "metadata": {},
   "source": [
    "### Perform API Calls\n",
    "* Perform a weather check on each city using a series of successive API calls.\n",
    "* Include a print log of each city as it'sbeing processed (with the city number and city name).\n"
   ]
  },
  {
   "cell_type": "code",
   "execution_count": 8,
   "metadata": {},
   "outputs": [
    {
     "name": "stdout",
     "output_type": "stream",
     "text": [
      "Beginning Data Retrieval\n",
      "------------------------\n",
      "Processing Record 1 of Set 1 | Qaanaaq\n",
      "Processing Record 2 of Set 1 | Butaritari\n",
      "Processing Record 3 of Set 1 | Ushuaia\n",
      "Processing Record 4 of Set 1 | Yar-Sale\n",
      "Processing Record 5 of Set 1 | Acajutla\n",
      "Processing Record 6 of Set 1 | Dunedin\n",
      "Processing Record 7 of Set 1 | Shimoda\n",
      "Processing Record 8 of Set 1 | Chokurdakh\n",
      "Processing Record 9 of Set 1 | Nome\n",
      "Processing Record 10 of Set 1 | Saskylakh\n",
      "Processing Record 11 of Set 1 | Ixtapa\n",
      "Processing Record 12 of Set 1 | Islāmpur\n",
      "Processing Record 13 of Set 1 | Marabu\n",
      "Processing Record 14 of Set 1 | Khani\n",
      "Processing Record 15 of Set 1 | Prince Rupert\n",
      "City not found. Skipping...\n",
      "Processing Record 16 of Set 1 | Bluff\n",
      "Processing Record 17 of Set 1 | Bredasdorp\n",
      "Processing Record 18 of Set 1 | Albany\n",
      "Processing Record 19 of Set 1 | Dikson\n",
      "Processing Record 20 of Set 1 | Mataura\n",
      "Processing Record 21 of Set 1 | Hilo\n",
      "Processing Record 22 of Set 1 | Atuona\n",
      "Processing Record 23 of Set 1 | Jamestown\n",
      "City not found. Skipping...\n",
      "Processing Record 24 of Set 1 | Arraial do Cabo\n",
      "Processing Record 25 of Set 1 | Zhigansk\n",
      "Processing Record 26 of Set 1 | Hong Kong\n",
      "Processing Record 27 of Set 1 | Port Hardy\n",
      "Processing Record 28 of Set 1 | Nālūt\n",
      "Processing Record 29 of Set 1 | Cidreira\n",
      "City not found. Skipping...\n",
      "Processing Record 30 of Set 1 | Carnarvon\n",
      "Processing Record 31 of Set 1 | Castro\n",
      "Processing Record 32 of Set 1 | Mar del Plata\n",
      "Processing Record 33 of Set 1 | Erdenet\n",
      "City not found. Skipping...\n",
      "Processing Record 34 of Set 1 | Uruçuí\n",
      "Processing Record 35 of Set 1 | Matara\n",
      "Processing Record 36 of Set 1 | Tuatapere\n",
      "Processing Record 37 of Set 1 | Rikitea\n",
      "Processing Record 38 of Set 1 | Vilyuysk\n",
      "Processing Record 39 of Set 1 | Punta Arenas\n",
      "Processing Record 40 of Set 1 | Upernavik\n",
      "Processing Record 41 of Set 1 | Narsaq\n",
      "Processing Record 42 of Set 1 | Soria\n",
      "Processing Record 43 of Set 1 | Touros\n",
      "Processing Record 44 of Set 1 | Ancud\n",
      "Processing Record 45 of Set 1 | Pangoa\n",
      "City not found. Skipping...\n",
      "Processing Record 46 of Set 1 | Port Elizabeth\n",
      "Processing Record 47 of Set 1 | Arman'\n",
      "Processing Record 48 of Set 1 | Yellowknife\n",
      "Processing Record 49 of Set 1 | Kapaa\n",
      "City not found. Skipping...\n",
      "Processing Record 50 of Set 1 | Korla\n",
      "Processing Record 1 of Set 2 | Maniitsoq\n",
      "Processing Record 2 of Set 2 | Brainerd\n",
      "Processing Record 3 of Set 2 | New Norfolk\n",
      "Processing Record 4 of Set 2 | Alofi\n",
      "Processing Record 5 of Set 2 | Havre-St-Pierre\n",
      "Processing Record 6 of Set 2 | Logan\n",
      "Processing Record 7 of Set 2 | Tiarei\n",
      "City not found. Skipping...\n",
      "Processing Record 8 of Set 2 | Shitanjing\n",
      "Processing Record 9 of Set 2 | Te Anau\n",
      "Processing Record 10 of Set 2 | Puerto Ayora\n",
      "Processing Record 11 of Set 2 | Ketchikan\n",
      "Processing Record 12 of Set 2 | Nikolskoye\n",
      "Processing Record 13 of Set 2 | Kaitong\n",
      "Processing Record 14 of Set 2 | Mossamedes\n",
      "Processing Record 15 of Set 2 | San Cristobal\n",
      "City not found. Skipping...\n",
      "Processing Record 16 of Set 2 | Kirakira\n",
      "Processing Record 17 of Set 2 | Barrow\n",
      "City not found. Skipping...\n",
      "Processing Record 18 of Set 2 | Katsuura\n",
      "Processing Record 19 of Set 2 | Cape Town\n",
      "Processing Record 20 of Set 2 | Hobart\n",
      "Processing Record 21 of Set 2 | Leh\n",
      "City not found. Skipping...\n",
      "City not found. Skipping...\n",
      "Processing Record 22 of Set 2 | Batalha\n",
      "City not found. Skipping...\n",
      "City not found. Skipping...\n",
      "Processing Record 23 of Set 2 | Iāwar\n",
      "Processing Record 24 of Set 2 | Bambous Virieux\n",
      "Processing Record 25 of Set 2 | Bilibino\n",
      "Processing Record 26 of Set 2 | São Luiz Gonzaga\n",
      "Processing Record 27 of Set 2 | Niterói\n",
      "City not found. Skipping...\n",
      "Processing Record 28 of Set 2 | Brownsburg\n",
      "Processing Record 29 of Set 2 | Vila Franca do Campo\n",
      "Processing Record 30 of Set 2 | Port Alfred\n",
      "Processing Record 31 of Set 2 | Conakry\n",
      "Processing Record 32 of Set 2 | Tevaitoa\n",
      "Processing Record 33 of Set 2 | Esperance\n",
      "Processing Record 34 of Set 2 | Cherskiy\n",
      "Processing Record 35 of Set 2 | Avera\n",
      "Processing Record 36 of Set 2 | Ahipara\n",
      "Processing Record 37 of Set 2 | Gamba\n",
      "Processing Record 38 of Set 2 | Antalaha\n",
      "Processing Record 39 of Set 2 | Vaini\n",
      "Processing Record 40 of Set 2 | Sangar\n",
      "Processing Record 41 of Set 2 | Busselton\n",
      "Processing Record 42 of Set 2 | Imphal\n",
      "Processing Record 43 of Set 2 | Monywa\n",
      "City not found. Skipping...\n",
      "Processing Record 44 of Set 2 | La Santisima Trinidad\n",
      "Processing Record 45 of Set 2 | Tuktoyaktuk\n",
      "Processing Record 46 of Set 2 | Saint George\n",
      "Processing Record 47 of Set 2 | Port Lincoln\n",
      "Processing Record 48 of Set 2 | Kavieng\n",
      "Processing Record 49 of Set 2 | Mana\n",
      "Processing Record 50 of Set 2 | East London\n",
      "Processing Record 1 of Set 3 | Nanortalik\n",
      "Processing Record 2 of Set 3 | Chui\n",
      "Processing Record 3 of Set 3 | Wucheng\n",
      "City not found. Skipping...\n",
      "Processing Record 4 of Set 3 | Chapais\n",
      "Processing Record 5 of Set 3 | Provideniya\n",
      "Processing Record 6 of Set 3 | Biak\n",
      "Processing Record 7 of Set 3 | Marsh Harbour\n",
      "Processing Record 8 of Set 3 | Atherton\n",
      "Processing Record 9 of Set 3 | Saint-Philippe\n",
      "Processing Record 10 of Set 3 | Lima\n",
      "Processing Record 11 of Set 3 | Mumford\n",
      "Processing Record 12 of Set 3 | Channel-Port aux Basques\n",
      "Processing Record 13 of Set 3 | George Town\n",
      "Processing Record 14 of Set 3 | Sabang\n",
      "Processing Record 15 of Set 3 | Bonavista\n",
      "Processing Record 16 of Set 3 | San Fernando del Valle de Catamarca\n",
      "Processing Record 17 of Set 3 | Neuquén\n",
      "City not found. Skipping...\n",
      "Processing Record 18 of Set 3 | Lucapa\n",
      "Processing Record 19 of Set 3 | Hermanus\n",
      "Processing Record 20 of Set 3 | Bethel\n",
      "Processing Record 21 of Set 3 | Ilulissat\n",
      "Processing Record 22 of Set 3 | Marsá Maţrūḩ\n",
      "Processing Record 23 of Set 3 | Morant Bay\n",
      "Processing Record 24 of Set 3 | Nuuk\n",
      "Processing Record 25 of Set 3 | Waipawa\n",
      "Processing Record 26 of Set 3 | Ouargaye\n",
      "Processing Record 27 of Set 3 | Ponta do Sol\n",
      "Processing Record 28 of Set 3 | Kulim\n",
      "Processing Record 29 of Set 3 | Nazareno\n",
      "Processing Record 30 of Set 3 | Tasiilaq\n",
      "Processing Record 31 of Set 3 | Sūlam\n",
      "Processing Record 32 of Set 3 | Richards Bay\n",
      "Processing Record 33 of Set 3 | Lata\n",
      "Processing Record 34 of Set 3 | Airai\n",
      "Processing Record 35 of Set 3 | Haines Junction\n",
      "Processing Record 36 of Set 3 | Saint Paul Harbor\n",
      "City not found. Skipping...\n",
      "Processing Record 37 of Set 3 | Aklavik\n",
      "Processing Record 38 of Set 3 | Khatanga\n",
      "Processing Record 39 of Set 3 | Carutapera\n",
      "Processing Record 40 of Set 3 | Cândido Mota\n",
      "City not found. Skipping...\n",
      "Processing Record 41 of Set 3 | Kita\n",
      "Processing Record 42 of Set 3 | Norman Wells\n",
      "Processing Record 43 of Set 3 | Kosh-Agach\n",
      "Processing Record 44 of Set 3 | Nantucket\n",
      "City not found. Skipping...\n",
      "Processing Record 45 of Set 3 | Yurginskoye\n",
      "Processing Record 46 of Set 3 | Maragogi\n",
      "Processing Record 47 of Set 3 | Cabo San Lucas\n",
      "Processing Record 48 of Set 3 | Pisco\n",
      "Processing Record 49 of Set 3 | Salmo\n",
      "Processing Record 50 of Set 3 | Corner Brook\n",
      "Processing Record 1 of Set 4 | Dinghaicun\n",
      "Processing Record 2 of Set 4 | Kenora\n",
      "Processing Record 3 of Set 4 | Shihezi\n",
      "Processing Record 4 of Set 4 | Ispas\n",
      "Processing Record 5 of Set 4 | Monforte de Lemos\n",
      "Processing Record 6 of Set 4 | Abu Dhabi\n",
      "Processing Record 7 of Set 4 | Gravdal\n",
      "Processing Record 8 of Set 4 | Chiredzi\n",
      "City not found. Skipping...\n",
      "Processing Record 9 of Set 4 | Klaksvík\n",
      "Processing Record 10 of Set 4 | Crotone\n",
      "Processing Record 11 of Set 4 | Fortuna\n",
      "Processing Record 12 of Set 4 | Plettenberg Bay\n",
      "City not found. Skipping...\n",
      "Processing Record 13 of Set 4 | Abū Zabad\n",
      "Processing Record 14 of Set 4 | Nanton\n",
      "Processing Record 15 of Set 4 | Hwange\n",
      "Processing Record 16 of Set 4 | Caibarién\n",
      "Processing Record 17 of Set 4 | Gumdag\n",
      "Processing Record 18 of Set 4 | Pacific Grove\n",
      "City not found. Skipping...\n",
      "City not found. Skipping...\n",
      "Processing Record 19 of Set 4 | Arenzano\n",
      "Processing Record 20 of Set 4 | Kedrovyy\n",
      "Processing Record 21 of Set 4 | Wapi Pathum\n",
      "Processing Record 22 of Set 4 | Mandera\n",
      "Processing Record 23 of Set 4 | Kaitangata\n",
      "Processing Record 24 of Set 4 | Acapulco de Juárez\n",
      "Processing Record 25 of Set 4 | Kungurtug\n",
      "Processing Record 26 of Set 4 | Grand Gaube\n",
      "Processing Record 27 of Set 4 | Ruteng\n",
      "Processing Record 28 of Set 4 | Salalah\n",
      "Processing Record 29 of Set 4 | Verkhoyansk\n",
      "Processing Record 30 of Set 4 | Terrace\n",
      "Processing Record 31 of Set 4 | Praia da Vitória\n"
     ]
    },
    {
     "name": "stdout",
     "output_type": "stream",
     "text": [
      "Processing Record 32 of Set 4 | Lorengau\n",
      "Processing Record 33 of Set 4 | Tubmanburg\n",
      "Processing Record 34 of Set 4 | Port Augusta\n",
      "Processing Record 35 of Set 4 | Ostrovnoy\n",
      "Processing Record 36 of Set 4 | Belmonte\n",
      "Processing Record 37 of Set 4 | Belle Fourche\n",
      "Processing Record 38 of Set 4 | Burnie\n",
      "Processing Record 39 of Set 4 | Petropavlovsk-Kamchatskiy\n",
      "Processing Record 40 of Set 4 | Aksarka\n",
      "Processing Record 41 of Set 4 | Hoi An\n",
      "Processing Record 42 of Set 4 | Lavrentiya\n",
      "Processing Record 43 of Set 4 | Tiksi\n",
      "Processing Record 44 of Set 4 | Douglas\n",
      "Processing Record 45 of Set 4 | Mahébourg\n",
      "Processing Record 46 of Set 4 | Hithadhoo\n",
      "Processing Record 47 of Set 4 | Mount Gambier\n",
      "Processing Record 48 of Set 4 | Hokitika\n",
      "Processing Record 49 of Set 4 | Hailun\n",
      "Processing Record 50 of Set 4 | Singaraja\n",
      "City not found. Skipping...\n",
      "Processing Record 1 of Set 5 | Agirish\n",
      "Processing Record 2 of Set 5 | Henties Bay\n",
      "Processing Record 3 of Set 5 | Elizabeth City\n",
      "Processing Record 4 of Set 5 | Thanh Hoa\n",
      "Processing Record 5 of Set 5 | Hirado\n",
      "Processing Record 6 of Set 5 | Tsimmerbude\n",
      "Processing Record 7 of Set 5 | Paamiut\n",
      "Processing Record 8 of Set 5 | Les Cayes\n",
      "Processing Record 9 of Set 5 | Chegutu\n",
      "Processing Record 10 of Set 5 | Berlevåg\n",
      "City not found. Skipping...\n",
      "Processing Record 11 of Set 5 | Miepherkeim\n",
      "Processing Record 12 of Set 5 | Portland\n",
      "Processing Record 13 of Set 5 | Lusambo\n",
      "Processing Record 14 of Set 5 | Deputatsky\n",
      "Processing Record 15 of Set 5 | Marzuq\n",
      "Processing Record 16 of Set 5 | Asău\n",
      "Processing Record 17 of Set 5 | São Lourenço do Sul\n",
      "Processing Record 18 of Set 5 | Leningradskiy\n",
      "Processing Record 19 of Set 5 | Faanui\n",
      "Processing Record 20 of Set 5 | Dingle\n",
      "Processing Record 21 of Set 5 | Udachny\n",
      "Processing Record 22 of Set 5 | Jumla\n",
      "City not found. Skipping...\n",
      "Processing Record 23 of Set 5 | Pathein\n",
      "Processing Record 24 of Set 5 | Hambantota\n",
      "Processing Record 25 of Set 5 | Codrington\n",
      "Processing Record 26 of Set 5 | Lüderitz\n",
      "Processing Record 27 of Set 5 | Isangel\n",
      "Processing Record 28 of Set 5 | Tabou\n",
      "Processing Record 29 of Set 5 | Tongren\n",
      "Processing Record 30 of Set 5 | Marawi\n",
      "City not found. Skipping...\n",
      "Processing Record 31 of Set 5 | Lebu\n",
      "Processing Record 32 of Set 5 | Ikalamavony\n",
      "Processing Record 33 of Set 5 | Yumen\n",
      "Processing Record 34 of Set 5 | Erzin\n",
      "Processing Record 35 of Set 5 | Pevek\n",
      "Processing Record 36 of Set 5 | Imbituba\n",
      "Processing Record 37 of Set 5 | Puksoozero\n",
      "Processing Record 38 of Set 5 | Talnakh\n",
      "Processing Record 39 of Set 5 | Tharād\n",
      "City not found. Skipping...\n",
      "Processing Record 40 of Set 5 | Mincivan\n",
      "Processing Record 41 of Set 5 | Ceres\n",
      "Processing Record 42 of Set 5 | Caloundra\n",
      "Processing Record 43 of Set 5 | Masterton\n",
      "Processing Record 44 of Set 5 | Vinukonda\n",
      "Processing Record 45 of Set 5 | Constitución\n",
      "Processing Record 46 of Set 5 | Djenné\n",
      "Processing Record 47 of Set 5 | Sept-Îles\n",
      "City not found. Skipping...\n",
      "Processing Record 48 of Set 5 | Magistral'nyy\n",
      "Processing Record 49 of Set 5 | Severo-Kuril'sk\n",
      "Processing Record 50 of Set 5 | Santa Luzia\n",
      "Processing Record 1 of Set 6 | Tromsø\n",
      "Processing Record 2 of Set 6 | Labuhan\n",
      "Processing Record 3 of Set 6 | Flinders\n",
      "Processing Record 4 of Set 6 | Bushehr\n",
      "City not found. Skipping...\n",
      "Processing Record 5 of Set 6 | Muravlenko\n",
      "Processing Record 6 of Set 6 | Lompoc\n",
      "Processing Record 7 of Set 6 | Freeport\n",
      "Processing Record 8 of Set 6 | Torbay\n",
      "Processing Record 9 of Set 6 | Mogadishu\n",
      "City not found. Skipping...\n",
      "Processing Record 10 of Set 6 | Madimba\n",
      "Processing Record 11 of Set 6 | Northam\n",
      "Processing Record 12 of Set 6 | Flin Flon\n",
      "Processing Record 13 of Set 6 | Ritchie\n",
      "Processing Record 14 of Set 6 | Tena\n",
      "Processing Record 15 of Set 6 | Amānganj\n",
      "Processing Record 16 of Set 6 | Linguère\n",
      "Processing Record 17 of Set 6 | Inuvik\n",
      "Processing Record 18 of Set 6 | Pulandian\n",
      "Processing Record 19 of Set 6 | Raudeberg\n",
      "Processing Record 20 of Set 6 | Namatanai\n",
      "Processing Record 21 of Set 6 | Mazara del Vallo\n",
      "Processing Record 22 of Set 6 | Agua Prieta\n",
      "Processing Record 23 of Set 6 | Inhambane\n",
      "City not found. Skipping...\n",
      "Processing Record 24 of Set 6 | Vostok\n",
      "Processing Record 25 of Set 6 | Río Gallegos\n",
      "Processing Record 26 of Set 6 | Banes\n",
      "Processing Record 27 of Set 6 | Semnan\n",
      "Processing Record 28 of Set 6 | Saldanha\n",
      "Processing Record 29 of Set 6 | Bida\n",
      "Processing Record 30 of Set 6 | Abnūb\n",
      "Processing Record 31 of Set 6 | Mwinilunga\n",
      "Processing Record 32 of Set 6 | Makakilo City\n",
      "Processing Record 33 of Set 6 | Assiniboia\n",
      "Processing Record 34 of Set 6 | Itatiba\n",
      "Processing Record 35 of Set 6 | Palauig\n",
      "Processing Record 36 of Set 6 | Athabasca\n",
      "Processing Record 37 of Set 6 | Bubaque\n",
      "Processing Record 38 of Set 6 | Seoul\n",
      "Processing Record 39 of Set 6 | Hermiston\n",
      "Processing Record 40 of Set 6 | Barabinsk\n",
      "Processing Record 41 of Set 6 | Balkhash\n",
      "Processing Record 42 of Set 6 | Port Blair\n",
      "Processing Record 43 of Set 6 | Lagoa\n",
      "Processing Record 44 of Set 6 | Nacala\n",
      "Processing Record 45 of Set 6 | Iqaluit\n",
      "City not found. Skipping...\n",
      "Processing Record 46 of Set 6 | Nicoya\n",
      "Processing Record 47 of Set 6 | Clyde River\n",
      "Processing Record 48 of Set 6 | Matagami\n",
      "Processing Record 49 of Set 6 | Sorong\n",
      "Processing Record 50 of Set 6 | Malinovskiy\n",
      "Processing Record 1 of Set 7 | Ocós\n",
      "Processing Record 2 of Set 7 | Noumea\n",
      "Processing Record 3 of Set 7 | Husavik\n",
      "Processing Record 4 of Set 7 | Onega\n",
      "Processing Record 5 of Set 7 | Rezzato\n",
      "Processing Record 6 of Set 7 | Paoua\n",
      "Processing Record 7 of Set 7 | Kavaratti\n",
      "Processing Record 8 of Set 7 | Virginia Beach\n",
      "Processing Record 9 of Set 7 | Kawalu\n",
      "Processing Record 10 of Set 7 | Mundra\n",
      "Processing Record 11 of Set 7 | Mahajanga\n",
      "Processing Record 12 of Set 7 | Beringovskiy\n",
      "Processing Record 13 of Set 7 | Nelson Bay\n",
      "Processing Record 14 of Set 7 | Grindavik\n",
      "City not found. Skipping...\n",
      "Processing Record 15 of Set 7 | Avarua\n",
      "Processing Record 16 of Set 7 | Beloha\n",
      "Processing Record 17 of Set 7 | Havelock\n",
      "Processing Record 18 of Set 7 | Ponta Delgada\n",
      "Processing Record 19 of Set 7 | Guerrero Negro\n",
      "Processing Record 20 of Set 7 | Denpasar\n",
      "Processing Record 21 of Set 7 | Owando\n",
      "Processing Record 22 of Set 7 | Labuan\n",
      "Processing Record 23 of Set 7 | Bengkulu\n",
      "Processing Record 24 of Set 7 | Port Hedland\n",
      "Processing Record 25 of Set 7 | Jiuquan\n",
      "Processing Record 26 of Set 7 | Road Town\n",
      "Processing Record 27 of Set 7 | Santa Cruz de la Sierra\n",
      "Processing Record 28 of Set 7 | Amapá\n",
      "Processing Record 29 of Set 7 | Bend\n",
      "Processing Record 30 of Set 7 | Bestöbe\n",
      "Processing Record 31 of Set 7 | Hamilton\n",
      "Processing Record 32 of Set 7 | Vung Tau\n",
      "Processing Record 33 of Set 7 | Arrondissement de Saint-Denis\n",
      "Processing Record 34 of Set 7 | Olavarría\n",
      "Processing Record 35 of Set 7 | São Miguel do Araguaia\n",
      "Processing Record 36 of Set 7 | Sakaiminato\n",
      "Processing Record 37 of Set 7 | Ayan\n",
      "Processing Record 38 of Set 7 | La Paz\n",
      "Processing Record 39 of Set 7 | Dabhoi\n",
      "Processing Record 40 of Set 7 | Kropotkin\n",
      "Processing Record 41 of Set 7 | Mukhen\n",
      "City not found. Skipping...\n",
      "Processing Record 42 of Set 7 | Arrecife\n",
      "Processing Record 43 of Set 7 | Sovetsk\n",
      "Processing Record 44 of Set 7 | Quatre Cocos\n",
      "City not found. Skipping...\n",
      "Processing Record 45 of Set 7 | Souillac\n",
      "Processing Record 46 of Set 7 | Saint Anthony\n",
      "Processing Record 47 of Set 7 | Provincia di Teramo\n",
      "Processing Record 48 of Set 7 | Reguengos de Monsaraz\n",
      "Processing Record 49 of Set 7 | Cadereyta\n",
      "Processing Record 50 of Set 7 | Takanosu\n",
      "Processing Record 1 of Set 8 | Faya\n",
      "Processing Record 2 of Set 8 | Leninskoye\n",
      "Processing Record 3 of Set 8 | São Caetano de Odivelas\n",
      "Processing Record 4 of Set 8 | Starosubkhangulovo\n",
      "Processing Record 5 of Set 8 | Artesia\n",
      "Processing Record 6 of Set 8 | Táborfalva\n",
      "Processing Record 7 of Set 8 | Sambava\n",
      "Processing Record 8 of Set 8 | Cutro\n",
      "Processing Record 9 of Set 8 | Khovd\n",
      "Processing Record 10 of Set 8 | Shatki\n",
      "Processing Record 11 of Set 8 | Kruisfontein\n",
      "Processing Record 12 of Set 8 | São Filipe\n",
      "Processing Record 13 of Set 8 | Mosjøen\n",
      "Processing Record 14 of Set 8 | Huixtla\n",
      "Processing Record 15 of Set 8 | Pinehurst\n",
      "Processing Record 16 of Set 8 | Colombo\n",
      "Processing Record 17 of Set 8 | Ternate\n",
      "Processing Record 18 of Set 8 | Portsmouth\n",
      "City not found. Skipping...\n",
      "Processing Record 19 of Set 8 | Taltal\n"
     ]
    },
    {
     "name": "stdout",
     "output_type": "stream",
     "text": [
      "Processing Record 20 of Set 8 | Kailua\n",
      "Processing Record 21 of Set 8 | Santa Maria\n",
      "Processing Record 22 of Set 8 | San Blas\n",
      "Processing Record 23 of Set 8 | Perth\n",
      "Processing Record 24 of Set 8 | Vila Velha\n",
      "Processing Record 25 of Set 8 | Drumnadrochit\n",
      "Processing Record 26 of Set 8 | Tomatlán\n",
      "Processing Record 27 of Set 8 | Verāval\n",
      "Processing Record 28 of Set 8 | Fairbanks\n",
      "Processing Record 29 of Set 8 | Lappeenranta\n",
      "Processing Record 30 of Set 8 | Sørland\n",
      "Processing Record 31 of Set 8 | Itarema\n",
      "Processing Record 32 of Set 8 | Los Llanos de Aridane\n",
      "Processing Record 33 of Set 8 | San Rafael del Sur\n",
      "Processing Record 34 of Set 8 | Vardø\n",
      "Processing Record 35 of Set 8 | Golden\n",
      "City not found. Skipping...\n",
      "Processing Record 36 of Set 8 | Tāndā\n",
      "Processing Record 37 of Set 8 | Kul'dur\n",
      "Processing Record 38 of Set 8 | Katherine\n",
      "Processing Record 39 of Set 8 | Kansanshi\n",
      "Processing Record 40 of Set 8 | Ceuta\n",
      "Processing Record 41 of Set 8 | Solnechnyy\n",
      "Processing Record 42 of Set 8 | Manokwari\n",
      "Processing Record 43 of Set 8 | Invermere\n",
      "Processing Record 44 of Set 8 | Nyagan\n",
      "Processing Record 45 of Set 8 | North Bend\n",
      "Processing Record 46 of Set 8 | Smithers\n",
      "Processing Record 47 of Set 8 | Qaqortoq\n",
      "Processing Record 48 of Set 8 | Issia\n",
      "Processing Record 49 of Set 8 | Atar\n",
      "City not found. Skipping...\n",
      "Processing Record 50 of Set 8 | Chingirlau\n",
      "Processing Record 1 of Set 9 | Hasaki\n",
      "Processing Record 2 of Set 9 | Finschhafen\n",
      "Processing Record 3 of Set 9 | Penzance\n",
      "Processing Record 4 of Set 9 | Puerto Madero\n",
      "Processing Record 5 of Set 9 | High Rock\n",
      "Processing Record 6 of Set 9 | Bambari\n",
      "City not found. Skipping...\n",
      "Processing Record 7 of Set 9 | Thompson\n",
      "Processing Record 8 of Set 9 | Liepāja\n",
      "City not found. Skipping...\n",
      "Processing Record 9 of Set 9 | Kikwit\n",
      "City not found. Skipping...\n",
      "Processing Record 10 of Set 9 | Franklin\n",
      "Processing Record 11 of Set 9 | Morristown\n",
      "Processing Record 12 of Set 9 | Muros\n",
      "Processing Record 13 of Set 9 | Yangi Marg`ilon\n",
      "Processing Record 14 of Set 9 | Şile\n",
      "Processing Record 15 of Set 9 | Perbaungan\n",
      "Processing Record 16 of Set 9 | Okhotsk\n",
      "Processing Record 17 of Set 9 | Suzzara\n",
      "Processing Record 18 of Set 9 | Chunskiy\n",
      "Processing Record 19 of Set 9 | Vāsudevanallūr\n",
      "Processing Record 20 of Set 9 | Santiago\n",
      "Processing Record 21 of Set 9 | Hanzhong\n",
      "Processing Record 22 of Set 9 | San Policarpo\n",
      "Processing Record 23 of Set 9 | Sinnamary\n",
      "Processing Record 24 of Set 9 | Sobolevo\n",
      "Processing Record 25 of Set 9 | Sarkand\n",
      "Processing Record 26 of Set 9 | Nuevo Progreso\n",
      "Processing Record 27 of Set 9 | Ribeira Grande\n",
      "Processing Record 28 of Set 9 | Atasū\n",
      "City not found. Skipping...\n",
      "Processing Record 29 of Set 9 | Kiunga\n",
      "Processing Record 30 of Set 9 | Russell\n",
      "Processing Record 31 of Set 9 | Mitsamiouli\n",
      "Processing Record 32 of Set 9 | Kahului\n",
      "Processing Record 33 of Set 9 | Cap Malheureux\n",
      "Processing Record 34 of Set 9 | Salò\n",
      "Processing Record 35 of Set 9 | Torquay\n",
      "Processing Record 36 of Set 9 | Warrnambool\n",
      "City not found. Skipping...\n",
      "Processing Record 37 of Set 9 | Half Moon Bay\n",
      "Processing Record 38 of Set 9 | Banda Aceh\n",
      "Processing Record 39 of Set 9 | Dudinka\n",
      "Processing Record 40 of Set 9 | Ngunguru\n",
      "Processing Record 41 of Set 9 | Washington\n",
      "Processing Record 42 of Set 9 | Wasilla\n",
      "Processing Record 43 of Set 9 | Vrå\n",
      "Processing Record 44 of Set 9 | Havøysund\n",
      "Processing Record 45 of Set 9 | Pāvilosta\n",
      "Processing Record 46 of Set 9 | Yulara\n",
      "Processing Record 47 of Set 9 | Shache\n",
      "Processing Record 48 of Set 9 | Angoche\n",
      "Processing Record 49 of Set 9 | Shenjiamen\n",
      "Processing Record 50 of Set 9 | Jiexiu\n",
      "Processing Record 1 of Set 10 | Kupino\n",
      "Processing Record 2 of Set 10 | Penukonda\n",
      "Processing Record 3 of Set 10 | Dalnerechensk\n",
      "Processing Record 4 of Set 10 | Jalu\n",
      "Processing Record 5 of Set 10 | Chik\n",
      "Processing Record 6 of Set 10 | Laas\n",
      "Processing Record 7 of Set 10 | Sitka\n",
      "City not found. Skipping...\n",
      "Processing Record 8 of Set 10 | Galanta\n",
      "Processing Record 9 of Set 10 | Cirò Marina\n",
      "Processing Record 10 of Set 10 | Merauke\n",
      "Processing Record 11 of Set 10 | Kanniyākumāri\n",
      "Processing Record 12 of Set 10 | Longyearbyen\n",
      "Processing Record 13 of Set 10 | College\n",
      "Processing Record 14 of Set 10 | Aykhal\n",
      "Processing Record 15 of Set 10 | Rio Grande\n",
      "Processing Record 16 of Set 10 | Mayskiy\n",
      "Processing Record 17 of Set 10 | Talcahuano\n",
      "Processing Record 18 of Set 10 | Sokolniki\n",
      "Processing Record 19 of Set 10 | Chagoda\n",
      "Processing Record 20 of Set 10 | Majalengka\n",
      "Processing Record 21 of Set 10 | Songjianghe\n",
      "Processing Record 22 of Set 10 | São João\n",
      "Processing Record 23 of Set 10 | Ocampo\n",
      "Processing Record 24 of Set 10 | Aranos\n",
      "Processing Record 25 of Set 10 | Sawtell\n",
      "Processing Record 26 of Set 10 | Takoradze\n",
      "Processing Record 27 of Set 10 | Itoman\n",
      "Processing Record 28 of Set 10 | Katobu\n",
      "City not found. Skipping...\n",
      "Processing Record 29 of Set 10 | Anadyr\n",
      "Processing Record 30 of Set 10 | Bossangoa\n",
      "City not found. Skipping...\n",
      "Processing Record 31 of Set 10 | Nalhāti\n",
      "Processing Record 32 of Set 10 | Minggang\n",
      "Processing Record 33 of Set 10 | Kautokeino\n",
      "Processing Record 34 of Set 10 | Luau\n",
      "Processing Record 35 of Set 10 | Zhalantun\n",
      "Processing Record 36 of Set 10 | Mildura\n",
      "Processing Record 37 of Set 10 | Harper\n",
      "Processing Record 38 of Set 10 | Kapoeta\n",
      "Processing Record 39 of Set 10 | Baharly\n",
      "Processing Record 40 of Set 10 | Manjeshwar\n",
      "Processing Record 41 of Set 10 | Mirny\n",
      "Processing Record 42 of Set 10 | Natal\n",
      "Processing Record 43 of Set 10 | Zherdevka\n",
      "Processing Record 44 of Set 10 | ‘Āhuimanu\n",
      "Processing Record 45 of Set 10 | Bereda\n",
      "Processing Record 46 of Set 10 | Hargeisa\n",
      "Processing Record 47 of Set 10 | Khandyga\n",
      "Processing Record 48 of Set 10 | Ust'-Ilimsk\n",
      "Processing Record 49 of Set 10 | Nardaran\n",
      "Processing Record 50 of Set 10 | Sittwe\n",
      "Processing Record 1 of Set 11 | Yagodnoye\n",
      "Processing Record 2 of Set 11 | Yekaterinoslavka\n",
      "Processing Record 3 of Set 11 | Terra Santa\n",
      "City not found. Skipping...\n",
      "Processing Record 4 of Set 11 | Miles City\n",
      "Processing Record 5 of Set 11 | Aksu\n",
      "Processing Record 6 of Set 11 | Ambilobe\n",
      "Processing Record 7 of Set 11 | Tadine\n",
      "Processing Record 8 of Set 11 | Batagay\n",
      "Processing Record 9 of Set 11 | Herat Province\n",
      "Processing Record 10 of Set 11 | Steinbach am Taunus\n",
      "Processing Record 11 of Set 11 | Anchorage\n",
      "Processing Record 12 of Set 11 | Rome\n",
      "Processing Record 13 of Set 11 | Emba\n",
      "Processing Record 14 of Set 11 | Huarmey\n",
      "Processing Record 15 of Set 11 | Great Falls\n",
      "Processing Record 16 of Set 11 | Godda\n",
      "Processing Record 17 of Set 11 | Kedgwick\n",
      "Processing Record 18 of Set 11 | Garmsār\n",
      "Processing Record 19 of Set 11 | Mwanza\n",
      "Processing Record 20 of Set 11 | Nouakchott\n",
      "Processing Record 21 of Set 11 | Eidfjord\n",
      "Processing Record 22 of Set 11 | Puerto del Rosario\n",
      "Processing Record 23 of Set 11 | Yarmouth\n",
      "Processing Record 24 of Set 11 | San Quintín\n",
      "Processing Record 25 of Set 11 | Adrar\n",
      "Processing Record 26 of Set 11 | Emerald\n",
      "Processing Record 27 of Set 11 | Statesboro\n",
      "Processing Record 28 of Set 11 | Vanimo\n",
      "Processing Record 29 of Set 11 | Balaipungut\n",
      "Processing Record 30 of Set 11 | Mawlaik\n",
      "Processing Record 31 of Set 11 | Kiryat Gat\n",
      "Processing Record 32 of Set 11 | Miandrivazo\n",
      "Processing Record 33 of Set 11 | The Valley\n",
      "Processing Record 34 of Set 11 | Chachapoyas\n",
      "Processing Record 35 of Set 11 | Morón\n",
      "Processing Record 36 of Set 11 | Geraldton\n",
      "City not found. Skipping...\n",
      "Processing Record 37 of Set 11 | City of San Pedro\n",
      "Processing Record 38 of Set 11 | Cabedelo\n",
      "Processing Record 39 of Set 11 | Korem\n",
      "Processing Record 40 of Set 11 | Tucumã\n",
      "Processing Record 41 of Set 11 | Pochutla\n",
      "Processing Record 42 of Set 11 | Nishihara\n",
      "Processing Record 43 of Set 11 | Toamasina\n",
      "Processing Record 44 of Set 11 | Saint-Joseph\n",
      "Processing Record 45 of Set 11 | Atocha\n",
      "Processing Record 46 of Set 11 | Lagos\n",
      "Processing Record 47 of Set 11 | Kazachinskoye\n",
      "City not found. Skipping...\n",
      "Processing Record 48 of Set 11 | Cerro Azul\n",
      "Processing Record 49 of Set 11 | Ontario\n",
      "Processing Record 50 of Set 11 | Norden\n",
      "Processing Record 1 of Set 12 | Buala\n",
      "Processing Record 2 of Set 12 | Wangaratta\n",
      "Processing Record 3 of Set 12 | Altamont\n",
      "Processing Record 4 of Set 12 | Broken Hill\n"
     ]
    }
   ],
   "source": [
    "# Save config information.\n",
    "url = \"http://api.openweathermap.org/data/2.5/weather?\"\n",
    "units = \"Imperial\"\n",
    "\n",
    "# Build partial query URL\n",
    "query_url = f\"{url}units={units}&APPID={weather_api_key}&q=\"\n",
    "\n",
    "# set up list to hold reponse info\n",
    "city_data = []\n",
    "\n",
    "record = 1\n",
    "set_count = 1\n",
    "\n",
    "# Set up to print a log of each city\n",
    "print(f\"Beginning Data Retrieval\")\n",
    "print(f\"------------------------\")\n",
    "\n",
    "# Loop through the list of cities and perform a request for data on each\n",
    "# Set up Try Statement\n",
    "\n",
    "for city in cities:\n",
    "    \n",
    "    city_url = query_url + city\n",
    "    \n",
    "    try:\n",
    "        city_weather = requests.get(city_url).json()\n",
    "        city_lat = city_weather[\"coord\"][\"lat\"]\n",
    "        city_lng = city_weather[\"coord\"][\"lon\"]\n",
    "        city_max_temp = city_weather[\"main\"][\"temp_max\"]\n",
    "        city_record = city_weather[\"name\"]\n",
    "        city_humidity = city_weather[\"main\"][\"humidity\"]\n",
    "        city_cloudiness = city_weather[\"clouds\"][\"all\"]\n",
    "        city_wind_speed = city_weather[\"wind\"][\"speed\"]\n",
    "        city_country = city_weather[\"sys\"][\"country\"]\n",
    "        city_date = city_weather[\"dt\"] \n",
    "\n",
    "    # then append them to the data object.\n",
    "        city_data.append({\n",
    "            \"City\": city,\n",
    "            \"Lat\": city_lat,\n",
    "            \"Lng\": city_lng,\n",
    "            \"Max Temp\": city_max_temp,\n",
    "            \"Humidity\": city_humidity,\n",
    "            \"Cloudiness\": city_cloudiness,\n",
    "            \"Wind Speed\": city_wind_speed,\n",
    "            \"Country\": city_country,\n",
    "            \"Date\": city_date})\n",
    "   \n",
    "        if(record %50==1 and record >=50):\n",
    "            set_count += 1\n",
    "            record = 1\n",
    "    \n",
    "        print(f\"Processing Record {record} of Set {set_count} | {city_record}\")\n",
    "\n",
    "        record += 1\n",
    "        \n",
    "        # wait seconds in loop to avoid over exceed rate limit of Weather API\n",
    "        time.sleep(2.00)\n",
    "    \n",
    "    # If no record found, skip to next call\n",
    "    except:\n",
    "        print(\"City not found. Skipping...\")\n",
    "        pass\n"
   ]
  },
  {
   "cell_type": "markdown",
   "metadata": {},
   "source": [
    "### Convert Raw Data to DataFrame\n",
    "* Export the city data into a .csv.\n",
    "* Display the DataFrame"
   ]
  },
  {
   "cell_type": "code",
   "execution_count": 9,
   "metadata": {},
   "outputs": [
    {
     "data": {
      "text/plain": [
       "City          554\n",
       "Lat           554\n",
       "Lng           554\n",
       "Max Temp      554\n",
       "Humidity      554\n",
       "Cloudiness    554\n",
       "Wind Speed    554\n",
       "Country       554\n",
       "Date          554\n",
       "dtype: int64"
      ]
     },
     "execution_count": 9,
     "metadata": {},
     "output_type": "execute_result"
    }
   ],
   "source": [
    "city_data_df = pd.DataFrame(city_data)\n",
    "city_data_df.count()"
   ]
  },
  {
   "cell_type": "code",
   "execution_count": 10,
   "metadata": {},
   "outputs": [
    {
     "data": {
      "text/html": [
       "<div>\n",
       "<style scoped>\n",
       "    .dataframe tbody tr th:only-of-type {\n",
       "        vertical-align: middle;\n",
       "    }\n",
       "\n",
       "    .dataframe tbody tr th {\n",
       "        vertical-align: top;\n",
       "    }\n",
       "\n",
       "    .dataframe thead th {\n",
       "        text-align: right;\n",
       "    }\n",
       "</style>\n",
       "<table border=\"1\" class=\"dataframe\">\n",
       "  <thead>\n",
       "    <tr style=\"text-align: right;\">\n",
       "      <th></th>\n",
       "      <th>City</th>\n",
       "      <th>Lat</th>\n",
       "      <th>Lng</th>\n",
       "      <th>Max Temp</th>\n",
       "      <th>Humidity</th>\n",
       "      <th>Cloudiness</th>\n",
       "      <th>Wind Speed</th>\n",
       "      <th>Country</th>\n",
       "      <th>Date</th>\n",
       "    </tr>\n",
       "  </thead>\n",
       "  <tbody>\n",
       "    <tr>\n",
       "      <th>0</th>\n",
       "      <td>qaanaaq</td>\n",
       "      <td>77.48</td>\n",
       "      <td>-69.36</td>\n",
       "      <td>41.81</td>\n",
       "      <td>65</td>\n",
       "      <td>4</td>\n",
       "      <td>2.04</td>\n",
       "      <td>GL</td>\n",
       "      <td>1595751081</td>\n",
       "    </tr>\n",
       "    <tr>\n",
       "      <th>1</th>\n",
       "      <td>butaritari</td>\n",
       "      <td>3.07</td>\n",
       "      <td>172.79</td>\n",
       "      <td>83.34</td>\n",
       "      <td>73</td>\n",
       "      <td>0</td>\n",
       "      <td>18.59</td>\n",
       "      <td>KI</td>\n",
       "      <td>1595751083</td>\n",
       "    </tr>\n",
       "    <tr>\n",
       "      <th>2</th>\n",
       "      <td>ushuaia</td>\n",
       "      <td>-54.80</td>\n",
       "      <td>-68.30</td>\n",
       "      <td>28.40</td>\n",
       "      <td>92</td>\n",
       "      <td>75</td>\n",
       "      <td>9.17</td>\n",
       "      <td>AR</td>\n",
       "      <td>1595751085</td>\n",
       "    </tr>\n",
       "    <tr>\n",
       "      <th>3</th>\n",
       "      <td>yar-sale</td>\n",
       "      <td>66.83</td>\n",
       "      <td>70.83</td>\n",
       "      <td>60.48</td>\n",
       "      <td>64</td>\n",
       "      <td>100</td>\n",
       "      <td>12.30</td>\n",
       "      <td>RU</td>\n",
       "      <td>1595751087</td>\n",
       "    </tr>\n",
       "    <tr>\n",
       "      <th>4</th>\n",
       "      <td>acajutla</td>\n",
       "      <td>13.59</td>\n",
       "      <td>-89.83</td>\n",
       "      <td>71.01</td>\n",
       "      <td>99</td>\n",
       "      <td>100</td>\n",
       "      <td>4.70</td>\n",
       "      <td>SV</td>\n",
       "      <td>1595751089</td>\n",
       "    </tr>\n",
       "  </tbody>\n",
       "</table>\n",
       "</div>"
      ],
      "text/plain": [
       "         City    Lat     Lng  Max Temp  Humidity  Cloudiness  Wind Speed  \\\n",
       "0     qaanaaq  77.48  -69.36     41.81        65           4        2.04   \n",
       "1  butaritari   3.07  172.79     83.34        73           0       18.59   \n",
       "2     ushuaia -54.80  -68.30     28.40        92          75        9.17   \n",
       "3    yar-sale  66.83   70.83     60.48        64         100       12.30   \n",
       "4    acajutla  13.59  -89.83     71.01        99         100        4.70   \n",
       "\n",
       "  Country        Date  \n",
       "0      GL  1595751081  \n",
       "1      KI  1595751083  \n",
       "2      AR  1595751085  \n",
       "3      RU  1595751087  \n",
       "4      SV  1595751089  "
      ]
     },
     "execution_count": 10,
     "metadata": {},
     "output_type": "execute_result"
    }
   ],
   "source": [
    "city_data_df.head()"
   ]
  },
  {
   "cell_type": "code",
   "execution_count": 11,
   "metadata": {},
   "outputs": [],
   "source": [
    "# Export the city data into a .csv\n",
    "city_data_df.to_csv(\"city_data.csv\", encoding=\"utf-8\", index=False)"
   ]
  },
  {
   "cell_type": "markdown",
   "metadata": {},
   "source": [
    "## Inspect the data and remove the cities where the humidity > 100%.\n",
    "----\n",
    "Skip this step if there are no cities that have humidity > 100%. "
   ]
  },
  {
   "cell_type": "code",
   "execution_count": 142,
   "metadata": {},
   "outputs": [],
   "source": [
    "# Read CSV file created by citypy so that I don't need to run it again\n",
    "import csv\n",
    "data = pd.read_csv(\"city_data.csv\")"
   ]
  },
  {
   "cell_type": "code",
   "execution_count": 143,
   "metadata": {},
   "outputs": [
    {
     "data": {
      "text/html": [
       "<div>\n",
       "<style scoped>\n",
       "    .dataframe tbody tr th:only-of-type {\n",
       "        vertical-align: middle;\n",
       "    }\n",
       "\n",
       "    .dataframe tbody tr th {\n",
       "        vertical-align: top;\n",
       "    }\n",
       "\n",
       "    .dataframe thead th {\n",
       "        text-align: right;\n",
       "    }\n",
       "</style>\n",
       "<table border=\"1\" class=\"dataframe\">\n",
       "  <thead>\n",
       "    <tr style=\"text-align: right;\">\n",
       "      <th></th>\n",
       "      <th>City</th>\n",
       "      <th>Lat</th>\n",
       "      <th>Lng</th>\n",
       "      <th>Max Temp</th>\n",
       "      <th>Humidity</th>\n",
       "      <th>Cloudiness</th>\n",
       "      <th>Wind Speed</th>\n",
       "      <th>Country</th>\n",
       "      <th>Date</th>\n",
       "    </tr>\n",
       "  </thead>\n",
       "  <tbody>\n",
       "    <tr>\n",
       "      <th>0</th>\n",
       "      <td>qaanaaq</td>\n",
       "      <td>77.48</td>\n",
       "      <td>-69.36</td>\n",
       "      <td>41.81</td>\n",
       "      <td>65</td>\n",
       "      <td>4</td>\n",
       "      <td>2.04</td>\n",
       "      <td>GL</td>\n",
       "      <td>1595751081</td>\n",
       "    </tr>\n",
       "    <tr>\n",
       "      <th>1</th>\n",
       "      <td>butaritari</td>\n",
       "      <td>3.07</td>\n",
       "      <td>172.79</td>\n",
       "      <td>83.34</td>\n",
       "      <td>73</td>\n",
       "      <td>0</td>\n",
       "      <td>18.59</td>\n",
       "      <td>KI</td>\n",
       "      <td>1595751083</td>\n",
       "    </tr>\n",
       "    <tr>\n",
       "      <th>2</th>\n",
       "      <td>ushuaia</td>\n",
       "      <td>-54.80</td>\n",
       "      <td>-68.30</td>\n",
       "      <td>28.40</td>\n",
       "      <td>92</td>\n",
       "      <td>75</td>\n",
       "      <td>9.17</td>\n",
       "      <td>AR</td>\n",
       "      <td>1595751085</td>\n",
       "    </tr>\n",
       "    <tr>\n",
       "      <th>3</th>\n",
       "      <td>yar-sale</td>\n",
       "      <td>66.83</td>\n",
       "      <td>70.83</td>\n",
       "      <td>60.48</td>\n",
       "      <td>64</td>\n",
       "      <td>100</td>\n",
       "      <td>12.30</td>\n",
       "      <td>RU</td>\n",
       "      <td>1595751087</td>\n",
       "    </tr>\n",
       "    <tr>\n",
       "      <th>4</th>\n",
       "      <td>acajutla</td>\n",
       "      <td>13.59</td>\n",
       "      <td>-89.83</td>\n",
       "      <td>71.01</td>\n",
       "      <td>99</td>\n",
       "      <td>100</td>\n",
       "      <td>4.70</td>\n",
       "      <td>SV</td>\n",
       "      <td>1595751089</td>\n",
       "    </tr>\n",
       "  </tbody>\n",
       "</table>\n",
       "</div>"
      ],
      "text/plain": [
       "         City    Lat     Lng  Max Temp  Humidity  Cloudiness  Wind Speed  \\\n",
       "0     qaanaaq  77.48  -69.36     41.81        65           4        2.04   \n",
       "1  butaritari   3.07  172.79     83.34        73           0       18.59   \n",
       "2     ushuaia -54.80  -68.30     28.40        92          75        9.17   \n",
       "3    yar-sale  66.83   70.83     60.48        64         100       12.30   \n",
       "4    acajutla  13.59  -89.83     71.01        99         100        4.70   \n",
       "\n",
       "  Country        Date  \n",
       "0      GL  1595751081  \n",
       "1      KI  1595751083  \n",
       "2      AR  1595751085  \n",
       "3      RU  1595751087  \n",
       "4      SV  1595751089  "
      ]
     },
     "execution_count": 143,
     "metadata": {},
     "output_type": "execute_result"
    }
   ],
   "source": [
    "data.head()"
   ]
  },
  {
   "cell_type": "code",
   "execution_count": 144,
   "metadata": {},
   "outputs": [
    {
     "data": {
      "text/html": [
       "<div>\n",
       "<style scoped>\n",
       "    .dataframe tbody tr th:only-of-type {\n",
       "        vertical-align: middle;\n",
       "    }\n",
       "\n",
       "    .dataframe tbody tr th {\n",
       "        vertical-align: top;\n",
       "    }\n",
       "\n",
       "    .dataframe thead th {\n",
       "        text-align: right;\n",
       "    }\n",
       "</style>\n",
       "<table border=\"1\" class=\"dataframe\">\n",
       "  <thead>\n",
       "    <tr style=\"text-align: right;\">\n",
       "      <th></th>\n",
       "      <th>City</th>\n",
       "      <th>Lat</th>\n",
       "      <th>Lng</th>\n",
       "      <th>Max Temp</th>\n",
       "      <th>Humidity</th>\n",
       "      <th>Cloudiness</th>\n",
       "      <th>Wind Speed</th>\n",
       "      <th>Country</th>\n",
       "      <th>Date</th>\n",
       "    </tr>\n",
       "  </thead>\n",
       "  <tbody>\n",
       "  </tbody>\n",
       "</table>\n",
       "</div>"
      ],
      "text/plain": [
       "Empty DataFrame\n",
       "Columns: [City, Lat, Lng, Max Temp, Humidity, Cloudiness, Wind Speed, Country, Date]\n",
       "Index: []"
      ]
     },
     "execution_count": 144,
     "metadata": {},
     "output_type": "execute_result"
    }
   ],
   "source": [
    "# Check the indices of cities that have humidity over 100%.\n",
    "over_humididy_df = data.loc[data[\"Humidity\"] > 100, :]\n",
    "over_humididy_df"
   ]
  },
  {
   "cell_type": "markdown",
   "metadata": {},
   "source": [
    "## Plotting the Data\n",
    "* Use proper labeling of the plots using plot titles (including date of analysis) and axes labels.\n",
    "* Save the plotted figures as .pngs."
   ]
  },
  {
   "cell_type": "markdown",
   "metadata": {},
   "source": [
    "## Latitude vs. Temperature Plot"
   ]
  },
  {
   "cell_type": "code",
   "execution_count": 187,
   "metadata": {
    "scrolled": true
   },
   "outputs": [
    {
     "data": {
      "image/png": "[encoded data removed]",
      "text/plain": [
       "<Figure size 432x288 with 1 Axes>"
      ]
     },
     "metadata": {
      "needs_background": "light"
     },
     "output_type": "display_data"
    }
   ],
   "source": [
    "plt.scatter(data[\"Lat\"],data[\"Max Temp\"], marker=\"o\", alpha=0.8, s=14)\n",
    "plt.title(\"City Latitude vs. Max Temperature (07/26/2020)\")\n",
    "plt.ylabel(\"Max Temperature (F)\")\n",
    "plt.xlabel(\"Latitude\")\n",
    "plt.grid(True)\n",
    "\n",
    "plt.savefig(\"01 Temperature-Latitude.png\")\n",
    "plt.show()"
   ]
  },
  {
   "cell_type": "code",
   "execution_count": 146,
   "metadata": {},
   "outputs": [],
   "source": [
    "# The above plot shows a relationship between latitude and maximum temperature collected at cities in the world. \n",
    "# The graph shows a binominal curve. Higher maximum temperatures were observed in cities with 0-20 degree of latitude."
   ]
  },
  {
   "cell_type": "markdown",
   "metadata": {},
   "source": [
    "## Latitude vs. Humidity Plot"
   ]
  },
  {
   "cell_type": "code",
   "execution_count": 188,
   "metadata": {},
   "outputs": [
    {
     "data": {
      "image/png": "[encoded data removed]",
      "text/plain": [
       "<Figure size 432x288 with 1 Axes>"
      ]
     },
     "metadata": {
      "needs_background": "light"
     },
     "output_type": "display_data"
    }
   ],
   "source": [
    "plt.scatter(data[\"Lat\"],data[\"Humidity\"], marker=\"o\", alpha=0.8, s=14)\n",
    "plt.title(\"City Latitude vs. Humidity (07/26/2020)\")\n",
    "plt.ylabel(\"Humidity (%)\")\n",
    "plt.xlabel(\"Latitude\")\n",
    "plt.grid(True)\n",
    "\n",
    "plt.savefig(\"02 Humidity-Latitude.png\")\n",
    "plt.show()"
   ]
  },
  {
   "cell_type": "code",
   "execution_count": 148,
   "metadata": {},
   "outputs": [],
   "source": [
    "# The above graph shows a relationship between latitude and humidity. \n",
    "# Based on the graph, there is no relationship between the two variables."
   ]
  },
  {
   "cell_type": "markdown",
   "metadata": {},
   "source": [
    "## Latitude vs. Cloudiness Plot"
   ]
  },
  {
   "cell_type": "code",
   "execution_count": 189,
   "metadata": {},
   "outputs": [
    {
     "data": {
      "image/png": "[encoded data removed]",
      "text/plain": [
       "<Figure size 432x288 with 1 Axes>"
      ]
     },
     "metadata": {
      "needs_background": "light"
     },
     "output_type": "display_data"
    }
   ],
   "source": [
    "plt.scatter(data[\"Lat\"], data[\"Cloudiness\"], marker=\"o\", alpha=0.8, s=14)\n",
    "plt.title(\"City Latitude vs. Cloudiness (07/26/2020)\")\n",
    "plt.ylabel(\"Cloudiness (%)\")\n",
    "plt.xlabel(\"Latitude\")\n",
    "plt.grid(True)\n",
    "\n",
    "plt.savefig(\"03 Cloudiness-Latitude.png\")\n",
    "plt.show()"
   ]
  },
  {
   "cell_type": "code",
   "execution_count": 150,
   "metadata": {},
   "outputs": [],
   "source": [
    "# The above graph shows a relationship between latitude and cloudiness. \n",
    "# Based on the graph, there is no relationship between the two variables."
   ]
  },
  {
   "cell_type": "markdown",
   "metadata": {},
   "source": [
    "## Latitude vs. Wind Speed Plot"
   ]
  },
  {
   "cell_type": "code",
   "execution_count": 190,
   "metadata": {},
   "outputs": [
    {
     "data": {
      "image/png": "[encoded data removed]",
      "text/plain": [
       "<Figure size 432x288 with 1 Axes>"
      ]
     },
     "metadata": {
      "needs_background": "light"
     },
     "output_type": "display_data"
    }
   ],
   "source": [
    "plt.scatter(data[\"Lat\"],data[\"Wind Speed\"], marker=\"o\", alpha=0.8, s=14)\n",
    "plt.title(\"City Latitude vs. Wind Speed (07/26/2020)\")\n",
    "plt.ylabel(\"Wind Speed (mph)\")\n",
    "plt.xlabel(\"Latitude\")\n",
    "plt.grid(True)\n",
    "\n",
    "plt.savefig(\"04 Wind Speed-Latitude.png\")\n",
    "plt.show()"
   ]
  },
  {
   "cell_type": "code",
   "execution_count": 152,
   "metadata": {},
   "outputs": [],
   "source": [
    "# The above graph shows a relationship between latitude and wind speed. \n",
    "# Based on the graph, there is no relationship between the two variables."
   ]
  },
  {
   "cell_type": "markdown",
   "metadata": {},
   "source": [
    "## Linear Regression"
   ]
  },
  {
   "cell_type": "code",
   "execution_count": 153,
   "metadata": {},
   "outputs": [
    {
     "data": {
      "text/html": [
       "<div>\n",
       "<style scoped>\n",
       "    .dataframe tbody tr th:only-of-type {\n",
       "        vertical-align: middle;\n",
       "    }\n",
       "\n",
       "    .dataframe tbody tr th {\n",
       "        vertical-align: top;\n",
       "    }\n",
       "\n",
       "    .dataframe thead th {\n",
       "        text-align: right;\n",
       "    }\n",
       "</style>\n",
       "<table border=\"1\" class=\"dataframe\">\n",
       "  <thead>\n",
       "    <tr style=\"text-align: right;\">\n",
       "      <th></th>\n",
       "      <th>City</th>\n",
       "      <th>Lat</th>\n",
       "      <th>Lng</th>\n",
       "      <th>Max Temp</th>\n",
       "      <th>Humidity</th>\n",
       "      <th>Cloudiness</th>\n",
       "      <th>Wind Speed</th>\n",
       "      <th>Country</th>\n",
       "      <th>Date</th>\n",
       "    </tr>\n",
       "  </thead>\n",
       "  <tbody>\n",
       "    <tr>\n",
       "      <th>0</th>\n",
       "      <td>qaanaaq</td>\n",
       "      <td>77.48</td>\n",
       "      <td>-69.36</td>\n",
       "      <td>41.81</td>\n",
       "      <td>65</td>\n",
       "      <td>4</td>\n",
       "      <td>2.04</td>\n",
       "      <td>GL</td>\n",
       "      <td>1595751081</td>\n",
       "    </tr>\n",
       "    <tr>\n",
       "      <th>1</th>\n",
       "      <td>butaritari</td>\n",
       "      <td>3.07</td>\n",
       "      <td>172.79</td>\n",
       "      <td>83.34</td>\n",
       "      <td>73</td>\n",
       "      <td>0</td>\n",
       "      <td>18.59</td>\n",
       "      <td>KI</td>\n",
       "      <td>1595751083</td>\n",
       "    </tr>\n",
       "    <tr>\n",
       "      <th>3</th>\n",
       "      <td>yar-sale</td>\n",
       "      <td>66.83</td>\n",
       "      <td>70.83</td>\n",
       "      <td>60.48</td>\n",
       "      <td>64</td>\n",
       "      <td>100</td>\n",
       "      <td>12.30</td>\n",
       "      <td>RU</td>\n",
       "      <td>1595751087</td>\n",
       "    </tr>\n",
       "    <tr>\n",
       "      <th>4</th>\n",
       "      <td>acajutla</td>\n",
       "      <td>13.59</td>\n",
       "      <td>-89.83</td>\n",
       "      <td>71.01</td>\n",
       "      <td>99</td>\n",
       "      <td>100</td>\n",
       "      <td>4.70</td>\n",
       "      <td>SV</td>\n",
       "      <td>1595751089</td>\n",
       "    </tr>\n",
       "    <tr>\n",
       "      <th>6</th>\n",
       "      <td>shimoda</td>\n",
       "      <td>34.67</td>\n",
       "      <td>138.95</td>\n",
       "      <td>80.60</td>\n",
       "      <td>88</td>\n",
       "      <td>75</td>\n",
       "      <td>16.11</td>\n",
       "      <td>JP</td>\n",
       "      <td>1595751094</td>\n",
       "    </tr>\n",
       "  </tbody>\n",
       "</table>\n",
       "</div>"
      ],
      "text/plain": [
       "         City    Lat     Lng  Max Temp  Humidity  Cloudiness  Wind Speed  \\\n",
       "0     qaanaaq  77.48  -69.36     41.81        65           4        2.04   \n",
       "1  butaritari   3.07  172.79     83.34        73           0       18.59   \n",
       "3    yar-sale  66.83   70.83     60.48        64         100       12.30   \n",
       "4    acajutla  13.59  -89.83     71.01        99         100        4.70   \n",
       "6     shimoda  34.67  138.95     80.60        88          75       16.11   \n",
       "\n",
       "  Country        Date  \n",
       "0      GL  1595751081  \n",
       "1      KI  1595751083  \n",
       "3      RU  1595751087  \n",
       "4      SV  1595751089  \n",
       "6      JP  1595751094  "
      ]
     },
     "execution_count": 153,
     "metadata": {},
     "output_type": "execute_result"
    }
   ],
   "source": [
    "# OPTIONAL: Create a function to create Linear Regression plots\n",
    "# Create Northern and Southern Hemisphere DataFrames\n",
    "northern_hemisphere_df = data.loc[city_data_df[\"Lat\"] >= 0, :]\n",
    "northern_hemisphere_df.head()"
   ]
  },
  {
   "cell_type": "code",
   "execution_count": 154,
   "metadata": {},
   "outputs": [
    {
     "data": {
      "text/html": [
       "<div>\n",
       "<style scoped>\n",
       "    .dataframe tbody tr th:only-of-type {\n",
       "        vertical-align: middle;\n",
       "    }\n",
       "\n",
       "    .dataframe tbody tr th {\n",
       "        vertical-align: top;\n",
       "    }\n",
       "\n",
       "    .dataframe thead th {\n",
       "        text-align: right;\n",
       "    }\n",
       "</style>\n",
       "<table border=\"1\" class=\"dataframe\">\n",
       "  <thead>\n",
       "    <tr style=\"text-align: right;\">\n",
       "      <th></th>\n",
       "      <th>City</th>\n",
       "      <th>Lat</th>\n",
       "      <th>Lng</th>\n",
       "      <th>Max Temp</th>\n",
       "      <th>Humidity</th>\n",
       "      <th>Cloudiness</th>\n",
       "      <th>Wind Speed</th>\n",
       "      <th>Country</th>\n",
       "      <th>Date</th>\n",
       "    </tr>\n",
       "  </thead>\n",
       "  <tbody>\n",
       "    <tr>\n",
       "      <th>2</th>\n",
       "      <td>ushuaia</td>\n",
       "      <td>-54.80</td>\n",
       "      <td>-68.30</td>\n",
       "      <td>28.40</td>\n",
       "      <td>92</td>\n",
       "      <td>75</td>\n",
       "      <td>9.17</td>\n",
       "      <td>AR</td>\n",
       "      <td>1595751085</td>\n",
       "    </tr>\n",
       "    <tr>\n",
       "      <th>5</th>\n",
       "      <td>dunedin</td>\n",
       "      <td>-45.87</td>\n",
       "      <td>170.50</td>\n",
       "      <td>46.99</td>\n",
       "      <td>73</td>\n",
       "      <td>0</td>\n",
       "      <td>4.27</td>\n",
       "      <td>NZ</td>\n",
       "      <td>1595751091</td>\n",
       "    </tr>\n",
       "    <tr>\n",
       "      <th>15</th>\n",
       "      <td>bluff</td>\n",
       "      <td>-46.60</td>\n",
       "      <td>168.33</td>\n",
       "      <td>50.29</td>\n",
       "      <td>80</td>\n",
       "      <td>77</td>\n",
       "      <td>15.68</td>\n",
       "      <td>NZ</td>\n",
       "      <td>1595751113</td>\n",
       "    </tr>\n",
       "    <tr>\n",
       "      <th>16</th>\n",
       "      <td>bredasdorp</td>\n",
       "      <td>-34.53</td>\n",
       "      <td>20.04</td>\n",
       "      <td>55.40</td>\n",
       "      <td>93</td>\n",
       "      <td>80</td>\n",
       "      <td>4.70</td>\n",
       "      <td>ZA</td>\n",
       "      <td>1595751115</td>\n",
       "    </tr>\n",
       "    <tr>\n",
       "      <th>19</th>\n",
       "      <td>mataura</td>\n",
       "      <td>-46.19</td>\n",
       "      <td>168.86</td>\n",
       "      <td>40.80</td>\n",
       "      <td>93</td>\n",
       "      <td>8</td>\n",
       "      <td>2.01</td>\n",
       "      <td>NZ</td>\n",
       "      <td>1595751122</td>\n",
       "    </tr>\n",
       "    <tr>\n",
       "      <th>...</th>\n",
       "      <td>...</td>\n",
       "      <td>...</td>\n",
       "      <td>...</td>\n",
       "      <td>...</td>\n",
       "      <td>...</td>\n",
       "      <td>...</td>\n",
       "      <td>...</td>\n",
       "      <td>...</td>\n",
       "      <td>...</td>\n",
       "    </tr>\n",
       "    <tr>\n",
       "      <th>543</th>\n",
       "      <td>saint-joseph</td>\n",
       "      <td>-21.37</td>\n",
       "      <td>55.62</td>\n",
       "      <td>73.40</td>\n",
       "      <td>60</td>\n",
       "      <td>54</td>\n",
       "      <td>31.09</td>\n",
       "      <td>RE</td>\n",
       "      <td>1595752243</td>\n",
       "    </tr>\n",
       "    <tr>\n",
       "      <th>544</th>\n",
       "      <td>atocha</td>\n",
       "      <td>-20.93</td>\n",
       "      <td>-66.23</td>\n",
       "      <td>29.32</td>\n",
       "      <td>58</td>\n",
       "      <td>1</td>\n",
       "      <td>5.21</td>\n",
       "      <td>BO</td>\n",
       "      <td>1595752245</td>\n",
       "    </tr>\n",
       "    <tr>\n",
       "      <th>550</th>\n",
       "      <td>buala</td>\n",
       "      <td>-8.14</td>\n",
       "      <td>159.59</td>\n",
       "      <td>80.24</td>\n",
       "      <td>80</td>\n",
       "      <td>100</td>\n",
       "      <td>9.19</td>\n",
       "      <td>SB</td>\n",
       "      <td>1595752258</td>\n",
       "    </tr>\n",
       "    <tr>\n",
       "      <th>551</th>\n",
       "      <td>wangaratta</td>\n",
       "      <td>-36.37</td>\n",
       "      <td>146.33</td>\n",
       "      <td>55.99</td>\n",
       "      <td>81</td>\n",
       "      <td>90</td>\n",
       "      <td>4.70</td>\n",
       "      <td>AU</td>\n",
       "      <td>1595752260</td>\n",
       "    </tr>\n",
       "    <tr>\n",
       "      <th>553</th>\n",
       "      <td>broken hill</td>\n",
       "      <td>-31.95</td>\n",
       "      <td>141.43</td>\n",
       "      <td>62.60</td>\n",
       "      <td>36</td>\n",
       "      <td>26</td>\n",
       "      <td>14.99</td>\n",
       "      <td>AU</td>\n",
       "      <td>1595752264</td>\n",
       "    </tr>\n",
       "  </tbody>\n",
       "</table>\n",
       "<p>169 rows × 9 columns</p>\n",
       "</div>"
      ],
      "text/plain": [
       "             City    Lat     Lng  Max Temp  Humidity  Cloudiness  Wind Speed  \\\n",
       "2         ushuaia -54.80  -68.30     28.40        92          75        9.17   \n",
       "5         dunedin -45.87  170.50     46.99        73           0        4.27   \n",
       "15          bluff -46.60  168.33     50.29        80          77       15.68   \n",
       "16     bredasdorp -34.53   20.04     55.40        93          80        4.70   \n",
       "19        mataura -46.19  168.86     40.80        93           8        2.01   \n",
       "..            ...    ...     ...       ...       ...         ...         ...   \n",
       "543  saint-joseph -21.37   55.62     73.40        60          54       31.09   \n",
       "544        atocha -20.93  -66.23     29.32        58           1        5.21   \n",
       "550         buala  -8.14  159.59     80.24        80         100        9.19   \n",
       "551    wangaratta -36.37  146.33     55.99        81          90        4.70   \n",
       "553   broken hill -31.95  141.43     62.60        36          26       14.99   \n",
       "\n",
       "    Country        Date  \n",
       "2        AR  1595751085  \n",
       "5        NZ  1595751091  \n",
       "15       NZ  1595751113  \n",
       "16       ZA  1595751115  \n",
       "19       NZ  1595751122  \n",
       "..      ...         ...  \n",
       "543      RE  1595752243  \n",
       "544      BO  1595752245  \n",
       "550      SB  1595752258  \n",
       "551      AU  1595752260  \n",
       "553      AU  1595752264  \n",
       "\n",
       "[169 rows x 9 columns]"
      ]
     },
     "execution_count": 154,
     "metadata": {},
     "output_type": "execute_result"
    }
   ],
   "source": [
    "southern_hemisphere_df = data.loc[city_data_df[\"Lat\"] < 0, :]\n",
    "southern_hemisphere_df"
   ]
  },
  {
   "cell_type": "markdown",
   "metadata": {},
   "source": [
    "####  Northern Hemisphere - Max Temp vs. Latitude Linear Regression"
   ]
  },
  {
   "cell_type": "code",
   "execution_count": 191,
   "metadata": {},
   "outputs": [
    {
     "name": "stdout",
     "output_type": "stream",
     "text": [
      "The r-squared is: 0.39\n"
     ]
    },
    {
     "data": {
      "image/png": "[encoded data removed]",
      "text/plain": [
       "<Figure size 432x288 with 1 Axes>"
      ]
     },
     "metadata": {
      "needs_background": "light"
     },
     "output_type": "display_data"
    }
   ],
   "source": [
    "# OPTIONAL: Create a function to create Linear Regression plots\n",
    "\n",
    "# Set up x and y variables: For Northern: \"n\", and For Southern \"s\"\n",
    "x_n = northern_hemisphere_df[\"Lat\"]\n",
    "y_nt = northern_hemisphere_df[\"Max Temp\"]\n",
    "y_nh = northern_hemisphere_df[\"Humidity\"]\n",
    "y_nc = northern_hemisphere_df[\"Cloudiness\"]\n",
    "y_nw = northern_hemisphere_df[\"Wind Speed\"]\n",
    "\n",
    "x_s = southern_hemisphere_df[\"Lat\"]\n",
    "y_st = southern_hemisphere_df[\"Max Temp\"]\n",
    "y_sh = southern_hemisphere_df[\"Humidity\"]\n",
    "y_sc = southern_hemisphere_df[\"Cloudiness\"]\n",
    "y_sw = southern_hemisphere_df[\"Wind Speed\"]\n",
    "\n",
    "def regression_plot (x, y, title):\n",
    "    (slope, intercept, rvalue, pvalue, stderr) = linregress(x, y)\n",
    "    regress_values = x * slope + intercept\n",
    "    line_eq = \"y = \" + str(round(slope,2)) + \"x + \" + str(round(intercept,2))\n",
    "    plt.scatter(x,y)\n",
    "    plt.plot(x,regress_values,\"r-\")\n",
    "    plt.annotate(line_eq,(min(x+5),min(y+5)),fontsize=12, color=\"red\")\n",
    "    print(f\"The r-squared is: {round(rvalue**2,2)}\")\n",
    "\n",
    "# Then call this function\n",
    "regression_plot(x_n, y_nt, 'Max Temp')\n",
    "plt.xlabel(\"Latitude\")\n",
    "plt.ylabel(\"Max Temp (F)\")\n",
    "plt.savefig(\"05 Max Temp-Latitude-N-Hemisphere.png\")\n",
    "plt.show()"
   ]
  },
  {
   "cell_type": "code",
   "execution_count": 29,
   "metadata": {},
   "outputs": [],
   "source": [
    "# The above graph shows a relationship between latitude and maximum temperature in Northern Hemisphere. \n",
    "# The r-squared value was 0.39, and there was a negative relationship between latitude and maximum temperature."
   ]
  },
  {
   "cell_type": "markdown",
   "metadata": {},
   "source": [
    "####  Southern Hemisphere - Max Temp vs. Latitude Linear Regression"
   ]
  },
  {
   "cell_type": "code",
   "execution_count": 192,
   "metadata": {},
   "outputs": [
    {
     "name": "stdout",
     "output_type": "stream",
     "text": [
      "The r-squared is: 0.59\n"
     ]
    },
    {
     "data": {
      "image/png": "[encoded data removed]",
      "text/plain": [
       "<Figure size 432x288 with 1 Axes>"
      ]
     },
     "metadata": {
      "needs_background": "light"
     },
     "output_type": "display_data"
    }
   ],
   "source": [
    "regression_plot(x_s, y_st, 'Max Temp')\n",
    "plt.xlabel(\"Latitude\")\n",
    "plt.ylabel(\"Max Temp (F)\")\n",
    "plt.savefig(\"06 Max Temp-Latitude-S-Hemisphere.png\")\n",
    "plt.show()"
   ]
  },
  {
   "cell_type": "code",
   "execution_count": 163,
   "metadata": {},
   "outputs": [],
   "source": [
    "# The above graph shows a relationship between latitude and maximum temperature in Southern Hemisphere. \n",
    "# The r-squared value was 0.59, and there was a positive relationship between latitude and maximum temperature."
   ]
  },
  {
   "cell_type": "markdown",
   "metadata": {},
   "source": [
    "####  Northern Hemisphere - Humidity (%) vs. Latitude Linear Regression"
   ]
  },
  {
   "cell_type": "code",
   "execution_count": 193,
   "metadata": {},
   "outputs": [
    {
     "name": "stdout",
     "output_type": "stream",
     "text": [
      "The r-squared is: 0.0\n"
     ]
    },
    {
     "data": {
      "image/png": "[encoded data removed]",
      "text/plain": [
       "<Figure size 432x288 with 1 Axes>"
      ]
     },
     "metadata": {
      "needs_background": "light"
     },
     "output_type": "display_data"
    }
   ],
   "source": [
    "regression_plot(x_n, y_nh, 'Humidity')\n",
    "plt.xlabel(\"Latitude\")\n",
    "plt.ylabel(\"Humidity (%)\")\n",
    "plt.savefig(\"07 Humidity-Latitude-N-Hemisphere.png\")\n",
    "plt.show()"
   ]
  },
  {
   "cell_type": "code",
   "execution_count": 165,
   "metadata": {},
   "outputs": [],
   "source": [
    "# The above graph shows a relationship between latitude and humidity in Northern Hemisphere. \n",
    "# The r-squared value was 0.0, and there was no relationship between latitude and humidity."
   ]
  },
  {
   "cell_type": "markdown",
   "metadata": {},
   "source": [
    "####  Southern Hemisphere - Humidity (%) vs. Latitude Linear Regression"
   ]
  },
  {
   "cell_type": "code",
   "execution_count": 194,
   "metadata": {},
   "outputs": [
    {
     "name": "stdout",
     "output_type": "stream",
     "text": [
      "The r-squared is: 0.01\n"
     ]
    },
    {
     "data": {
      "image/png": "[encoded data removed]",
      "text/plain": [
       "<Figure size 432x288 with 1 Axes>"
      ]
     },
     "metadata": {
      "needs_background": "light"
     },
     "output_type": "display_data"
    }
   ],
   "source": [
    "regression_plot(x_s, y_sh, 'Humidity')\n",
    "plt.xlabel(\"Latitude\")\n",
    "plt.ylabel(\"Humidity (%)\")\n",
    "plt.savefig(\"08 Humidity-Latitude-S-Hemisphere.png\")\n",
    "plt.show()"
   ]
  },
  {
   "cell_type": "code",
   "execution_count": 167,
   "metadata": {},
   "outputs": [],
   "source": [
    "# The above graph shows a relationship between latitude and humidity in Southern Hemisphere. \n",
    "# The r-squared value was 0.01, and there was no relationship between latitude and humidity."
   ]
  },
  {
   "cell_type": "markdown",
   "metadata": {},
   "source": [
    "####  Northern Hemisphere - Cloudiness (%) vs. Latitude Linear Regression"
   ]
  },
  {
   "cell_type": "code",
   "execution_count": 195,
   "metadata": {},
   "outputs": [
    {
     "name": "stdout",
     "output_type": "stream",
     "text": [
      "The r-squared is: 0.0\n"
     ]
    },
    {
     "data": {
      "image/png": "[encoded data removed]",
      "text/plain": [
       "<Figure size 432x288 with 1 Axes>"
      ]
     },
     "metadata": {
      "needs_background": "light"
     },
     "output_type": "display_data"
    }
   ],
   "source": [
    "regression_plot(x_n, y_nc, 'Cloudiness')\n",
    "plt.xlabel(\"Latitude\")\n",
    "plt.ylabel(\"Cloudiness (%)\")\n",
    "plt.savefig(\"09 Cloudiness-Latitude-N-Hemisphere.png\")\n",
    "plt.show()"
   ]
  },
  {
   "cell_type": "code",
   "execution_count": 169,
   "metadata": {},
   "outputs": [],
   "source": [
    "# The above graph shows a relationship between latitude and cloudiness in Northern Hemisphere. \n",
    "# The r-squared value was 0.0, and there was no relationship between latitude and cloudiness."
   ]
  },
  {
   "cell_type": "markdown",
   "metadata": {},
   "source": [
    "####  Southern Hemisphere - Cloudiness (%) vs. Latitude Linear Regression"
   ]
  },
  {
   "cell_type": "code",
   "execution_count": 196,
   "metadata": {},
   "outputs": [
    {
     "name": "stdout",
     "output_type": "stream",
     "text": [
      "The r-squared is: 0.01\n"
     ]
    },
    {
     "data": {
      "image/png": "[encoded data removed]",
      "text/plain": [
       "<Figure size 432x288 with 1 Axes>"
      ]
     },
     "metadata": {
      "needs_background": "light"
     },
     "output_type": "display_data"
    }
   ],
   "source": [
    "regression_plot(x_s, y_sc, 'Cloudiness')\n",
    "plt.xlabel(\"Latitude\")\n",
    "plt.ylabel(\"Cloudiness (%)\")\n",
    "plt.savefig(\"10 Cloudiness-Latitude-S-Hemisphere.png\")\n",
    "plt.show()"
   ]
  },
  {
   "cell_type": "code",
   "execution_count": 171,
   "metadata": {},
   "outputs": [],
   "source": [
    "# The above graph shows a relationship between latitude and cloudiness in Southern Hemisphere. \n",
    "# The r-squared value was 0.01, and there was no relationship between latitude and cloudiness."
   ]
  },
  {
   "cell_type": "markdown",
   "metadata": {},
   "source": [
    "####  Northern Hemisphere - Wind Speed (mph) vs. Latitude Linear Regression"
   ]
  },
  {
   "cell_type": "code",
   "execution_count": 197,
   "metadata": {},
   "outputs": [
    {
     "name": "stdout",
     "output_type": "stream",
     "text": [
      "The r-squared is: 0.0\n"
     ]
    },
    {
     "data": {
      "image/png": "[encoded data removed]",
      "text/plain": [
       "<Figure size 432x288 with 1 Axes>"
      ]
     },
     "metadata": {
      "needs_background": "light"
     },
     "output_type": "display_data"
    }
   ],
   "source": [
    "regression_plot(x_n, y_nw, 'Wind Speed')\n",
    "plt.xlabel(\"Latitude\")\n",
    "plt.ylabel(\"Wind Speed (mph)\")\n",
    "plt.savefig(\"11 Wind Speed-Latitude-N-Hemisphere.png\")\n",
    "plt.show()"
   ]
  },
  {
   "cell_type": "code",
   "execution_count": 173,
   "metadata": {},
   "outputs": [],
   "source": [
    "# The above graph shows a relationship between latitude and wind speed in Northern Hemisphere. \n",
    "# The r-squared value was 0.0, and there was no relationship between latitude and wind speed."
   ]
  },
  {
   "cell_type": "markdown",
   "metadata": {},
   "source": [
    "####  Southern Hemisphere - Wind Speed (mph) vs. Latitude Linear Regression"
   ]
  },
  {
   "cell_type": "code",
   "execution_count": 198,
   "metadata": {},
   "outputs": [
    {
     "name": "stdout",
     "output_type": "stream",
     "text": [
      "The r-squared is: 0.0\n"
     ]
    },
    {
     "data": {
      "image/png": "[encoded data removed]",
      "text/plain": [
       "<Figure size 432x288 with 1 Axes>"
      ]
     },
     "metadata": {
      "needs_background": "light"
     },
     "output_type": "display_data"
    }
   ],
   "source": [
    "regression_plot(x_s, y_sw, 'Wind Speed')\n",
    "plt.xlabel(\"Latitude\")\n",
    "plt.ylabel(\"Wind Speed (mph)\")\n",
    "plt.savefig(\"12 Wind Speed-Latitude-S-Hemisphere.png\")\n",
    "plt.show()"
   ]
  },
  {
   "cell_type": "code",
   "execution_count": null,
   "metadata": {},
   "outputs": [],
   "source": [
    "# The above graph shows a relationship between latitude and wind speed in Southern Hemisphere. \n",
    "# The r-squared value was 0.0, and there was no relationship between latitude and wind speed."
   ]
  },
  {
   "cell_type": "code",
   "execution_count": null,
   "metadata": {},
   "outputs": [],
   "source": [
    "# A written description of three observable trends based on the data\n",
    "#1: There was a strong correlation between maximum temperature and latitude. Low latitude regions had higher maximum temperature compared with high latitude regions.\n",
    "#2: There were no correlations between latidude and humidity, cloudiness, and wind speed. These variables might be related with weather. Weather frequently changes anywhere in the world, either high or low latitude; therefore, there might not be a relationship between latitude and the other variables. \n",
    "#3: I obtained similar statistic results and patterns from the analyses with northern and southern hemisphere. There was a strong relationship between temperature and latitude, but not with the other variables including humidity, cloudiness, and wind speed.\n"
   ]
  }
 ],
 "metadata": {
  "anaconda-cloud": {},
  "kernel_info": {
   "name": "python3"
  },
  "kernelspec": {
   "display_name": "PythonData",
   "language": "python",
   "name": "pythondata"
  },
  "language_info": {
   "codemirror_mode": {
    "name": "ipython",
    "version": 3
   },
   "file_extension": ".py",
   "mimetype": "text/x-python",
   "name": "python",
   "nbconvert_exporter": "python",
   "pygments_lexer": "ipython3",
   "version": "3.6.10"
  },
  "latex_envs": {
   "LaTeX_envs_menu_present": true,
   "autoclose": false,
   "autocomplete": true,
   "bibliofile": "biblio.bib",
   "cite_by": "apalike",
   "current_citInitial": 1,
   "eqLabelWithNumbers": true,
   "eqNumInitial": 1,
   "hotkeys": {
    "equation": "Ctrl-E",
    "itemize": "Ctrl-I"
   },
   "labels_anchors": false,
   "latex_user_defs": false,
   "report_style_numbering": false,
   "user_envs_cfg": false
  },
  "nteract": {
   "version": "0.12.3"
  }
 },
 "nbformat": 4,
 "nbformat_minor": 2
}
